{
  "cells": [
    {
      "cell_type": "markdown",
      "metadata": {
        "id": "bL06JYTuEq06"
      },
      "source": [
        "## PyTorch Workflow\n",
        "\n",
        "Please refer to: https://github.com/mrdbourke/pytorch-deep-learning/blob/main/01_pytorch_workflow.ipynb\n",
        "\n",
        "Let's explore an exmaple PyTorch end-to-end workflow.\n",
        "\n",
        "1. data (prepare and load)\n",
        "2. build model\n",
        "3. fitting the model to data (training)\n",
        "4. make predictions and evaluate a model\n",
        "5. save and load a model\n",
        "6. putting it all together"
      ]
    },
    {
      "cell_type": "code",
      "execution_count": 285,
      "metadata": {
        "colab": {
          "base_uri": "https://localhost:8080/",
          "height": 35
        },
        "id": "BgoG-xJBqIkh",
        "outputId": "6e5710ef-d836-472d-a0c1-83e44cf548c7"
      },
      "outputs": [
        {
          "data": {
            "text/plain": [
              "'2.7.0'"
            ]
          },
          "execution_count": 285,
          "metadata": {},
          "output_type": "execute_result"
        }
      ],
      "source": [
        "import torch\n",
        "from torch import nn # nn contains all of PyTorch's building blocks for neural networks\n",
        "import matplotlib.pyplot as plt\n",
        "\n",
        "# check pytorch version\n",
        "torch.__version__"
      ]
    },
    {
      "cell_type": "markdown",
      "metadata": {
        "id": "H61uMnBnrhPu"
      },
      "source": [
        "### 1. Data (Preparing and Loading)\n",
        "\n",
        "Machine learning is a game of two parts:\n",
        "\n",
        "1. Turn your data, whatever it is, into numbers (a representation).\n",
        "2. Pick or build a model to learn the representation as best as possible.\n",
        "\n",
        "We'll use **linear regression** to create the data with *known* parameters (things that can be learned by a model) and then we'll use PyTorch to see if we can build model to estimate these parameters using **gradient descent**."
      ]
    },
    {
      "cell_type": "code",
      "execution_count": 286,
      "metadata": {
        "colab": {
          "base_uri": "https://localhost:8080/"
        },
        "id": "hc-5bDCLrg6Y",
        "outputId": "b9c44b2f-9465-4131-d88b-f16b14760ac2"
      },
      "outputs": [
        {
          "data": {
            "text/plain": [
              "(tensor([[0.0000],\n",
              "         [0.0200],\n",
              "         [0.0400],\n",
              "         [0.0600],\n",
              "         [0.0800],\n",
              "         [0.1000],\n",
              "         [0.1200],\n",
              "         [0.1400],\n",
              "         [0.1600],\n",
              "         [0.1800]]),\n",
              " tensor([[0.3963],\n",
              "         [0.3884],\n",
              "         [0.3730],\n",
              "         [0.2367],\n",
              "         [0.3899],\n",
              "         [0.3083],\n",
              "         [0.3818],\n",
              "         [0.3178],\n",
              "         [0.3744],\n",
              "         [0.5084]]))"
            ]
          },
          "execution_count": 286,
          "metadata": {},
          "output_type": "execute_result"
        }
      ],
      "source": [
        "# Create known parameters\n",
        "weight = 0.7\n",
        "bias = 0.3\n",
        "\n",
        "# Create data\n",
        "torch.manual_seed(42)\n",
        "start = 0\n",
        "end = 1\n",
        "step = 0.02\n",
        "X = torch.arange(start, end, step).unsqueeze(dim=1)\n",
        "error = 0.05 * torch.randn(size=(len(X), 1))\n",
        "y = bias + weight * X + error\n",
        "\n",
        "X[:10], y[:10]"
      ]
    },
    {
      "cell_type": "markdown",
      "metadata": {
        "id": "D7g2ryIMt3Bw"
      },
      "source": [
        "### Splitting data into training and testing"
      ]
    },
    {
      "cell_type": "markdown",
      "metadata": {
        "id": "25z-hnUg0-W6"
      },
      "source": [
        "We could randomly split training/testing data using `train_test_split` from the `sklearn.model_selection`:"
      ]
    },
    {
      "cell_type": "code",
      "execution_count": 287,
      "metadata": {
        "colab": {
          "base_uri": "https://localhost:8080/"
        },
        "id": "Zg-KATO707Jp",
        "outputId": "1545269b-b1f3-4b40-9a25-04121e1a4f61"
      },
      "outputs": [
        {
          "name": "stdout",
          "output_type": "stream",
          "text": [
            "40 40 10 10\n"
          ]
        }
      ],
      "source": [
        "from sklearn.model_selection import train_test_split\n",
        "\n",
        "# X, y: your features and labels (arrays, lists, DataFrames, etc.)\n",
        "X_train, X_test, y_train, y_test = train_test_split(\n",
        "    X, y,\n",
        "    test_size=0.2,       # 20% test, 80% train\n",
        "    shuffle=True,        # shuffle before splitting (True by default)\n",
        "    random_state=42      # for reproducibility; use any integer or omit for true randomness\n",
        ")\n",
        "\n",
        "print(len(X_train), len(y_train), len(X_test), len(y_test))"
      ]
    },
    {
      "cell_type": "markdown",
      "metadata": {
        "id": "X7RDpbyLeu6r"
      },
      "source": [
        "For now, we let the first 80% of the data as training and the remaining 20% as testing."
      ]
    },
    {
      "cell_type": "code",
      "execution_count": 288,
      "metadata": {
        "colab": {
          "base_uri": "https://localhost:8080/"
        },
        "id": "IQZ5EV83et0u",
        "outputId": "a9d9049d-badd-4ec6-efc7-ccdd93b1b18f"
      },
      "outputs": [
        {
          "data": {
            "text/plain": [
              "(40, 40, 10, 10)"
            ]
          },
          "execution_count": 288,
          "metadata": {},
          "output_type": "execute_result"
        }
      ],
      "source": [
        "# Create train/test split\n",
        "train_split = int(0.8 * len(X)) # 80% of data used for training set, 20% for testing\n",
        "X_train, y_train = X[:train_split], y[:train_split]\n",
        "X_test, y_test = X[train_split:], y[train_split:]\n",
        "len(X_train), len(y_train), len(X_test), len(y_test)"
      ]
    },
    {
      "cell_type": "markdown",
      "metadata": {
        "id": "rBFRi40ivxZ9"
      },
      "source": [
        "#### Visualize data"
      ]
    },
    {
      "cell_type": "code",
      "execution_count": 289,
      "metadata": {
        "id": "Cxui0UscEeWo"
      },
      "outputs": [],
      "source": [
        "def plot_predictions(train_data,\n",
        "                     train_labels,\n",
        "                     test_data,\n",
        "                     test_labels,\n",
        "                     predictions=None):\n",
        "  \"\"\"\n",
        "  Plots training data, test data and compares predictions.\n",
        "  \"\"\"\n",
        "\n",
        "  plt.figure(figsize=(8, 6))\n",
        "\n",
        "  # Plot training data in blue\n",
        "  plt.scatter(train_data, train_labels, c=\"b\", s=16, label=\"Training data\")\n",
        "\n",
        "  # Plot test data in green\n",
        "  plt.scatter(test_data, test_labels, c=\"g\", s=16, label=\"Testing data\")\n",
        "\n",
        "  # Are there predictions\n",
        "  if predictions is not None:\n",
        "    # Plot predictions in red (predictions in test data)\n",
        "    plt.scatter(test_data, predictions, c=\"r\", s=16, label=\"Predictions\")\n",
        "\n",
        "  # Show the legend\n",
        "  plt.legend(prop={\"size\": 14})"
      ]
    },
    {
      "cell_type": "code",
      "execution_count": 290,
      "metadata": {
        "colab": {
          "base_uri": "https://localhost:8080/",
          "height": 522
        },
        "id": "qHTTcpV5z5Q2",
        "outputId": "12b05438-6e7b-48f3-f7f5-44b1c827fbb5"
      },
      "outputs": [
        {
          "data": {
            "image/png": "[encoded data removed]",
            "text/plain": [
              "<Figure size 800x600 with 1 Axes>"
            ]
          },
          "metadata": {},
          "output_type": "display_data"
        }
      ],
      "source": [
        "plot_predictions(train_data=X_train,\n",
        "                 train_labels=y_train,\n",
        "                 test_data=X_test,\n",
        "                 test_labels=y_test)"
      ]
    },
    {
      "cell_type": "markdown",
      "metadata": {
        "id": "lSXCwXSX16us"
      },
      "source": [
        "### 2. Build model\n",
        "\n",
        "Our first PyTorch model using OOP (Object Oriented Program)."
      ]
    },
    {
      "cell_type": "code",
      "execution_count": 291,
      "metadata": {
        "id": "f3CJlAaL16Ri"
      },
      "outputs": [],
      "source": [
        "# Create linear regression model class\n",
        "class LinearRegressionModel(nn.Module): # <- almost everything in PyTorch is a nn.Module (think of this as neural network lego blocks)\n",
        "  def __init__(self):\n",
        "    super().__init__()\n",
        "    self.weights = nn.Parameter(torch.randn(1, # <- start with random weights (this will get adjusted as the model learns)\n",
        "                                            requires_grad=True, # <- can we update this value with gradient descent?\n",
        "                                            dtype=torch.float))\n",
        "\n",
        "    self.bias = nn.Parameter(torch.randn(1, # <- start with random bias (this will get adjusted as the model learns)\n",
        "                                         requires_grad=True, # <- can we update this value with gradient descent?\n",
        "                                         dtype=torch.float))\n",
        "\n",
        "  # Forward method to define the computation in the model\n",
        "  def forward(self, x: torch.Tensor) -> torch.Tensor:\n",
        "    # <- \"x\" is the input data (e.g. training/testing features)\n",
        "    # the colon here (x: torch.Tensor) is a \"type hint\"\n",
        "    # the arrow here (-> torch.Tensor) is a \"return type hint\"\n",
        "    return self.weights * x + self.bias"
      ]
    },
    {
      "cell_type": "markdown",
      "metadata": {
        "id": "5OSFht-v8QxL"
      },
      "source": [
        "### PyTorch model building essentials\n",
        "\n",
        "\n",
        "| PyTorch modules       | What does it do?    |\n",
        "|:-----------|:-----------|\n",
        "| `torch.nn` | Contains all of the building blocks for computational graphs  (essentially a series of computations executed in a particular way).        |\n",
        "| `torch.nn.Parameter`| Stores tensors that can be used with `nn.Module`. If `requires_grad=True`, gradients (used for updating model parameters via **gradient descent**) are calculated automatically, this is often referred to as **autograd**.     |\n",
        "| `torch.nn.Module`  | The base class for all neural network modules, all the building blocks for neural networks are subclasses. If you're building a neural network in PyTorch, your models should subclass `nn.Module`. Requires a `forward()` method be implemented.  |\n",
        "| `torch.optim` | Contains various optimization algorithms (these tell the model parameters stored in `nn.Parameter` how to best change to improve gradient descent and in turn reduce the loss). |\n",
        "| `def forward()` | All `nn.Module` subclasses require a `forward()` method, this defines the computation that will take place on the data passed to the particular `nn.Module` (e.g. the linear regression formula above). |"
      ]
    },
    {
      "cell_type": "markdown",
      "metadata": {
        "id": "WJe7O2TgCvrI"
      },
      "source": [
        "#### Check the contents of our PyTorch model"
      ]
    },
    {
      "cell_type": "code",
      "execution_count": 292,
      "metadata": {
        "colab": {
          "base_uri": "https://localhost:8080/"
        },
        "id": "cQphXsGQDAFZ",
        "outputId": "0dc20f19-26e2-43f6-d703-fcf877cc336b"
      },
      "outputs": [
        {
          "data": {
            "text/plain": [
              "[Parameter containing:\n",
              " tensor([0.3367], requires_grad=True),\n",
              " Parameter containing:\n",
              " tensor([0.1288], requires_grad=True)]"
            ]
          },
          "execution_count": 292,
          "metadata": {},
          "output_type": "execute_result"
        }
      ],
      "source": [
        "torch.manual_seed(42)\n",
        "\n",
        "# Create an instance of the model (this is a subclass of nn.Module)\n",
        "model_0 = LinearRegressionModel()\n",
        "\n",
        "# Check the nn.Parameter(s) within the nn.Module subclass we created\n",
        "list(model_0.parameters())"
      ]
    },
    {
      "cell_type": "code",
      "execution_count": 293,
      "metadata": {
        "colab": {
          "base_uri": "https://localhost:8080/"
        },
        "id": "Gv_t8EKFFMAr",
        "outputId": "0095c89b-14be-4c91-80ae-b92af0a2ab56"
      },
      "outputs": [
        {
          "data": {
            "text/plain": [
              "OrderedDict([('weights', tensor([0.3367])), ('bias', tensor([0.1288]))])"
            ]
          },
          "execution_count": 293,
          "metadata": {},
          "output_type": "execute_result"
        }
      ],
      "source": [
        "# List named parameters\n",
        "model_0.state_dict()"
      ]
    },
    {
      "cell_type": "markdown",
      "metadata": {
        "id": "7iTmiafDFzUC"
      },
      "source": [
        "### Making prediction using `torch.inference.mode()`"
      ]
    },
    {
      "cell_type": "code",
      "execution_count": 294,
      "metadata": {
        "colab": {
          "base_uri": "https://localhost:8080/"
        },
        "id": "ZayfiigYF7Tw",
        "outputId": "cfdc9762-a41a-4764-d068-690ed4216234"
      },
      "outputs": [
        {
          "data": {
            "text/plain": [
              "tensor([[0.3982],\n",
              "        [0.4049],\n",
              "        [0.4116],\n",
              "        [0.4184],\n",
              "        [0.4251],\n",
              "        [0.4318],\n",
              "        [0.4386],\n",
              "        [0.4453],\n",
              "        [0.4520],\n",
              "        [0.4588]])"
            ]
          },
          "execution_count": 294,
          "metadata": {},
          "output_type": "execute_result"
        }
      ],
      "source": [
        "# Making prediction with model_0 (random parameters)\n",
        "# `inference_mode` disables gradient tracking, making code run faster.\n",
        "with torch.inference_mode():\n",
        "  y_preds = model_0(X_test)\n",
        "\n",
        "y_preds"
      ]
    },
    {
      "cell_type": "code",
      "execution_count": 295,
      "metadata": {
        "colab": {
          "base_uri": "https://localhost:8080/",
          "height": 522
        },
        "id": "oCJQCeoDHSJT",
        "outputId": "efaedb96-ab77-411b-e794-164fb1a833a6"
      },
      "outputs": [
        {
          "data": {
            "image/png": "[encoded data removed]",
            "text/plain": [
              "<Figure size 800x600 with 1 Axes>"
            ]
          },
          "metadata": {},
          "output_type": "display_data"
        }
      ],
      "source": [
        "plot_predictions(train_data=X_train,\n",
        "                 train_labels=y_train,\n",
        "                 test_data=X_test,\n",
        "                 test_labels=y_test, \n",
        "                 predictions=y_preds)"
      ]
    },
    {
      "cell_type": "markdown",
      "metadata": {
        "id": "yh6gVB8wKrJL"
      },
      "source": [
        "### 3. Train Model\n",
        "\n",
        "#### Creating a loss function and optimizer in PyTorch\n",
        "\n",
        "* For **loss function**, see: https://docs.pytorch.org/docs/stable/nn.html#loss-functions\n",
        "\n",
        "* For **optimizer**, see: https://docs.pytorch.org/docs/main/optim.html"
      ]
    },
    {
      "cell_type": "code",
      "execution_count": 296,
      "metadata": {
        "id": "4JVlk8zlK5g1"
      },
      "outputs": [],
      "source": [
        "# Create the loss function\n",
        "loss_fn = nn.L1Loss() # MAE loss is same as L1Loss\n",
        "\n",
        "# Create the optimizer\n",
        "optimizer = torch.optim.SGD(params=model_0.parameters(), # parameters of target model to optimize\n",
        "                            lr=0.01) # how much the optimizer should change"
      ]
    },
    {
      "cell_type": "markdown",
      "metadata": {
        "id": "PkrknbEWSfwq"
      },
      "source": [
        "#### Building a training (and testing) loop in PyTorch\n",
        "\n",
        "**training**\n",
        "1. Forward pass\n",
        "2. Compute the loss\n",
        "3. Zero gradients\n",
        "4. Perform backpropagation on the loss\n",
        "5. Update the optimizer (gradient descent)\n",
        "\n",
        "**testing**\n",
        "1. Forward pass\n",
        "2. Compute the loss\n",
        "3. Compute other evaluation metrics (optional)"
      ]
    },
    {
      "cell_type": "code",
      "execution_count": 297,
      "metadata": {
        "colab": {
          "base_uri": "https://localhost:8080/"
        },
        "id": "YF15LE78UloH",
        "outputId": "2da1feea-de11-4bc7-82b8-9222f173a866"
      },
      "outputs": [
        {
          "name": "stdout",
          "output_type": "stream",
          "text": [
            "Epoch: 0 | MAE Train Loss: 0.3184804916381836 | MAE Test Loss: 0.4825840890407562 \n",
            "Epoch: 20 | MAE Train Loss: 0.11274781078100204 | MAE Test Loss: 0.22905251383781433 \n",
            "Epoch: 40 | MAE Train Loss: 0.06314687430858612 | MAE Test Loss: 0.11276662349700928 \n",
            "Epoch: 60 | MAE Train Loss: 0.05588054656982422 | MAE Test Loss: 0.07919186353683472 \n",
            "Epoch: 80 | MAE Train Loss: 0.05265623331069946 | MAE Test Loss: 0.06547452509403229 \n",
            "Epoch: 100 | MAE Train Loss: 0.05050984025001526 | MAE Test Loss: 0.05898098275065422 \n",
            "Epoch: 120 | MAE Train Loss: 0.04926322028040886 | MAE Test Loss: 0.05534330755472183 \n",
            "Epoch: 140 | MAE Train Loss: 0.0484992153942585 | MAE Test Loss: 0.05466127395629883 \n",
            "Epoch: 160 | MAE Train Loss: 0.04777256399393082 | MAE Test Loss: 0.05388523265719414 \n",
            "Epoch: 180 | MAE Train Loss: 0.047054219990968704 | MAE Test Loss: 0.05326620489358902 \n",
            "Epoch: 200 | MAE Train Loss: 0.04641108587384224 | MAE Test Loss: 0.05251558497548103 \n",
            "Epoch: 220 | MAE Train Loss: 0.04620296508073807 | MAE Test Loss: 0.05216670781373978 \n",
            "Epoch: 240 | MAE Train Loss: 0.045997001230716705 | MAE Test Loss: 0.05188623070716858 \n",
            "Epoch: 260 | MAE Train Loss: 0.045934535562992096 | MAE Test Loss: 0.05141618847846985 \n",
            "Epoch: 280 | MAE Train Loss: 0.04591492563486099 | MAE Test Loss: 0.051143717020750046 \n",
            "Epoch: 300 | MAE Train Loss: 0.04589492827653885 | MAE Test Loss: 0.05076364427804947 \n",
            "Epoch: 320 | MAE Train Loss: 0.04587492719292641 | MAE Test Loss: 0.050383590161800385 \n",
            "Epoch: 340 | MAE Train Loss: 0.0458553209900856 | MAE Test Loss: 0.05011110380291939 \n",
            "Epoch: 360 | MAE Train Loss: 0.04583531618118286 | MAE Test Loss: 0.0497310534119606 \n",
            "Epoch: 380 | MAE Train Loss: 0.04581530764698982 | MAE Test Loss: 0.04935097694396973 \n",
            "Epoch: 400 | MAE Train Loss: 0.045795708894729614 | MAE Test Loss: 0.04907851293683052 \n",
            "Epoch: 420 | MAE Train Loss: 0.045775704085826874 | MAE Test Loss: 0.04869845509529114 \n",
            "Epoch: 440 | MAE Train Loss: 0.04575570300221443 | MAE Test Loss: 0.048318397253751755 \n",
            "Epoch: 460 | MAE Train Loss: 0.04573570564389229 | MAE Test Loss: 0.04793833568692207 \n",
            "Epoch: 480 | MAE Train Loss: 0.045716095715761185 | MAE Test Loss: 0.047665856778621674 \n"
          ]
        }
      ],
      "source": [
        "torch.manual_seed(42)\n",
        "\n",
        "# Set the number of epochs (how many times the model will pass over the training data)\n",
        "epochs = 500\n",
        "\n",
        "# Create empty loss lists to track values\n",
        "train_loss_values = []\n",
        "test_loss_values = []\n",
        "epoch_count = []\n",
        "\n",
        "for epoch in range(epochs):\n",
        "\n",
        "  ### Training\n",
        "\n",
        "  # 0. Switch into \"train\" mode:\n",
        "  model_0.train()\n",
        "\n",
        "  # 1. Forward pass: compute model outputs and build computation graph.\n",
        "  #    Internally calls model_0.forward(X_train).\n",
        "  y_pred = model_0(X_train)\n",
        "\n",
        "  # 2. Compute the loss between predictions and ground truth.\n",
        "  loss = loss_fn(y_pred, y_train)\n",
        "\n",
        "  # 3. Zero out any previously stored gradients.\n",
        "  #    PyTorch accumulates gradients by default, so we must clear them each step.\n",
        "  optimizer.zero_grad()\n",
        "\n",
        "  # 4. Backward pass: compute new gradients via backpropagation.\n",
        "  #    Autograd traverses the computation graph in reverse,\n",
        "  #    storing gradients of parameters in each param.grad.\n",
        "  loss.backward()\n",
        "\n",
        "  # 5. Update model parameters using the optimizer’s rule.\n",
        "  #    For SGD: param.data -= lr * param.grad\n",
        "  optimizer.step()\n",
        "\n",
        "\n",
        "  ### Testing\n",
        "  # 0. Switch into evaluation model\n",
        "  model_0.eval()\n",
        "\n",
        "  # Disable gradient tracking for faster, memory‑efficient inference.\n",
        "  with torch.inference_mode():\n",
        "\n",
        "    # 1. Forward pass on test data to get predictions.\n",
        "    test_pred = model_0(X_test)\n",
        "\n",
        "    # 2. Compute loss on test set:\n",
        "    test_loss = loss_fn(test_pred, y_test)\n",
        "\n",
        "\n",
        "  ### Print the results\n",
        "  if epoch % 20 == 0:\n",
        "    epoch_count.append(epoch)\n",
        "    train_loss_values.append(loss.detach().numpy())\n",
        "    test_loss_values.append(test_loss.detach().numpy())\n",
        "    print(f\"Epoch: {epoch} | MAE Train Loss: {loss} | MAE Test Loss: {test_loss} \")\n"
      ]
    },
    {
      "cell_type": "markdown",
      "metadata": {
        "id": "dP46lqe9WOjb"
      },
      "source": [
        "**Note:** In PyTorch, every time you call `loss.backward()`, gradients for each parameter are accumulated into the .grad attribute (i.e. they're summed on top of whatever was there before). This is by design (it lets you implement gradient accumulation over multiple mini-batches), but in the typical \"one forward -> one backward -> one step\" loop you want to **reset** those old gradients before computing new ones. That's exactly what `optimizer.zero_grad()` does."
      ]
    },
    {
      "cell_type": "code",
      "execution_count": 298,
      "metadata": {
        "colab": {
          "base_uri": "https://localhost:8080/",
          "height": 564
        },
        "id": "mr3w0cc8dYJ4",
        "outputId": "192a5fc9-e7dc-486a-cbc4-8dcc78c8cfd1"
      },
      "outputs": [
        {
          "data": {
            "text/plain": [
              "<matplotlib.legend.Legend at 0x166c25f40>"
            ]
          },
          "execution_count": 298,
          "metadata": {},
          "output_type": "execute_result"
        },
        {
          "data": {
            "image/png": "[encoded data removed]",
            "text/plain": [
              "<Figure size 800x600 with 1 Axes>"
            ]
          },
          "metadata": {},
          "output_type": "display_data"
        }
      ],
      "source": [
        "# Plot the loss curves\n",
        "plt.figure(figsize=(8, 6))\n",
        "plt.plot(epoch_count, train_loss_values, label=\"Train loss\")\n",
        "plt.plot(epoch_count, test_loss_values, label=\"Test loss\")\n",
        "plt.title(\"Training and test loss curves\")\n",
        "plt.ylabel(\"Loss\")\n",
        "plt.xlabel(\"Epochs\")\n",
        "plt.legend()"
      ]
    },
    {
      "cell_type": "code",
      "execution_count": 299,
      "metadata": {
        "colab": {
          "base_uri": "https://localhost:8080/"
        },
        "id": "1DsAN5O9eFUs",
        "outputId": "f26aa6e5-f8c6-4346-faf0-ef01176d545b"
      },
      "outputs": [
        {
          "name": "stdout",
          "output_type": "stream",
          "text": [
            "The model learned the following values for weights and bias:\n",
            "OrderedDict({'weights': tensor([0.6364]), 'bias': tensor([0.3388])})\n",
            "\n",
            "And the original values for weights and bias are:\n",
            "weights: 0.7, bias: 0.3\n"
          ]
        }
      ],
      "source": [
        "# Find our model's learned parameters\n",
        "print(\"The model learned the following values for weights and bias:\")\n",
        "print(model_0.state_dict())\n",
        "print(\"\\nAnd the original values for weights and bias are:\")\n",
        "print(f\"weights: {weight}, bias: {bias}\")"
      ]
    },
    {
      "cell_type": "code",
      "execution_count": 300,
      "metadata": {
        "colab": {
          "base_uri": "https://localhost:8080/",
          "height": 522
        },
        "id": "A2RZlh_ReRsE",
        "outputId": "24c21f33-3282-4e5c-e7af-ef5836762a85"
      },
      "outputs": [
        {
          "data": {
            "image/png": "[encoded data removed]",
            "text/plain": [
              "<Figure size 800x600 with 1 Axes>"
            ]
          },
          "metadata": {},
          "output_type": "display_data"
        }
      ],
      "source": [
        "# plot the prediction results\n",
        "with torch.inference_mode():\n",
        "  y_preds = model_0(X_test)\n",
        "\n",
        "plot_predictions(train_data=X_train,\n",
        "                 train_labels=y_train,\n",
        "                 test_data=X_test,\n",
        "                 test_labels=y_test, \n",
        "                 predictions=y_preds)"
      ]
    },
    {
      "cell_type": "markdown",
      "metadata": {
        "id": "3DrrzVaY1210"
      },
      "source": [
        "### Save (and load) a model in PyTorch\n",
        "\n",
        "There are three main methods:\n",
        "\n",
        "1. `torch.save()`: save a PyTorch object in Python's pickle format\n",
        "2. `torch.load()`: load a saved PyTorch object\n",
        "3. `torch.nn.Module.load_state_dict()`: load a model's saved state dictionary"
      ]
    },
    {
      "cell_type": "code",
      "execution_count": 301,
      "metadata": {
        "colab": {
          "base_uri": "https://localhost:8080/"
        },
        "id": "o4wMTD_C25eP",
        "outputId": "f7282c6e-c9dc-4c27-b049-49111cd65d79"
      },
      "outputs": [
        {
          "name": "stdout",
          "output_type": "stream",
          "text": [
            "Saving model to: models/01_pytorch_workflow_model.pth\n"
          ]
        }
      ],
      "source": [
        "# Saving the PyTorch model\n",
        "from pathlib import Path\n",
        "\n",
        "# 1. Create models directory\n",
        "MODEL_PATH = Path(\"models\")\n",
        "MODEL_PATH.mkdir(parents=True, exist_ok=True)\n",
        "\n",
        "# 2. Create model save path\n",
        "MODEL_NAME = \"01_pytorch_workflow_model.pth\"\n",
        "MODEL_SAVE_PATH = MODEL_PATH / MODEL_NAME\n",
        "\n",
        "# 3. Save the model state dict\n",
        "print(f\"Saving model to: {MODEL_SAVE_PATH}\")\n",
        "torch.save(obj=model_0.state_dict(), # only saving the state_dict() only saves the models learned parameters\n",
        "           f=MODEL_SAVE_PATH)"
      ]
    },
    {
      "cell_type": "code",
      "execution_count": 302,
      "metadata": {
        "colab": {
          "base_uri": "https://localhost:8080/"
        },
        "id": "q-mpyw_25VXz",
        "outputId": "c18a2897-82bf-4b55-d2de-a17850d86396"
      },
      "outputs": [
        {
          "data": {
            "text/plain": [
              "<All keys matched successfully>"
            ]
          },
          "execution_count": 302,
          "metadata": {},
          "output_type": "execute_result"
        }
      ],
      "source": [
        "## Load a PyTorch model\n",
        "\n",
        "# Instantiate a new instance of our model (this will be instantiated with random weights)\n",
        "loaded_model_0 = LinearRegressionModel()\n",
        "\n",
        "# Load the state_dict of our saved model (this will update the new instance of our model with trained weights)\n",
        "loaded_model_0.load_state_dict(torch.load(f=MODEL_SAVE_PATH))"
      ]
    },
    {
      "cell_type": "code",
      "execution_count": 303,
      "metadata": {
        "colab": {
          "base_uri": "https://localhost:8080/"
        },
        "id": "mYuUg0si6Y0r",
        "outputId": "c057ecef-9076-4332-97dc-ac85ea715255"
      },
      "outputs": [
        {
          "data": {
            "text/plain": [
              "tensor([[True],\n",
              "        [True],\n",
              "        [True],\n",
              "        [True],\n",
              "        [True],\n",
              "        [True],\n",
              "        [True],\n",
              "        [True],\n",
              "        [True],\n",
              "        [True]])"
            ]
          },
          "execution_count": 303,
          "metadata": {},
          "output_type": "execute_result"
        }
      ],
      "source": [
        "# 1. Put the loaded model into evaluation mode\n",
        "loaded_model_0.eval()\n",
        "\n",
        "# 2. Use the inference mode context manager to make predictions\n",
        "with torch.inference_mode():\n",
        "  # perform a forward pass on the test data with the loaded model\n",
        "    loaded_model_preds = loaded_model_0(X_test)\n",
        "\n",
        "# Compare previous model predictions with loaded model predictions\n",
        "# these should be the same\n",
        "y_preds == loaded_model_preds"
      ]
    },
    {
      "cell_type": "markdown",
      "metadata": {},
      "source": [
        "\n",
        "---\n",
        "\n",
        "### 6. Put it all together (use GPU this time)"
      ]
    },
    {
      "cell_type": "code",
      "execution_count": 304,
      "metadata": {},
      "outputs": [
        {
          "name": "stdout",
          "output_type": "stream",
          "text": [
            "torch version is: 2.7.0\n",
            "Used device: mps\n",
            "\n"
          ]
        }
      ],
      "source": [
        "# Import PyTorch \n",
        "import torch\n",
        "from torch import nn \n",
        "import matplotlib.pyplot as plt\n",
        "\n",
        "# check pytorch version\n",
        "print(f\"torch version is: {torch.__version__}\")\n",
        "\n",
        "# Set device agnostic code\n",
        "if torch.cuda.is_available():\n",
        "    device = \"cuda\" # Use NVIDIA GPU (if available)\n",
        "elif torch.backends.mps.is_available():\n",
        "    device = \"mps\" # Use Apple Silicon GPU (if available)\n",
        "else:\n",
        "    device = \"cpu\" # Default to CPU if no GPU is available\n",
        "print(f\"Used device: {device}\\n\")"
      ]
    },
    {
      "cell_type": "markdown",
      "metadata": {},
      "source": [
        "#### 6.1 Data"
      ]
    },
    {
      "cell_type": "code",
      "execution_count": 305,
      "metadata": {},
      "outputs": [
        {
          "data": {
            "image/png": "[encoded data removed]",
            "text/plain": [
              "<Figure size 800x600 with 1 Axes>"
            ]
          },
          "metadata": {},
          "output_type": "display_data"
        }
      ],
      "source": [
        "# Create known parameters\n",
        "weight = 0.7\n",
        "bias = 0.3\n",
        "\n",
        "# Create X and y\n",
        "torch.manual_seed(123)\n",
        "start = 0\n",
        "end = 1\n",
        "step = 0.02\n",
        "X = torch.arange(start, end, step).unsqueeze(dim=1)\n",
        "error = 0.02 * torch.randn(size=(len(X), 1))\n",
        "y = bias + weight * X + error\n",
        "\n",
        "# Create train/test split\n",
        "train_split = int(0.8 * len(X)) # 80%-20% of data used for training/testing\n",
        "X_train, y_train = X[:train_split], y[:train_split]\n",
        "X_test, y_test = X[train_split:], y[train_split:]\n",
        "len(X_train), len(y_train), len(X_test), len(y_test)\n",
        "\n",
        "# Put data on the available device\n",
        "X_train = X_train.to(device)\n",
        "X_test = X_test.to(device)\n",
        "y_train = y_train.to(device)\n",
        "y_test = y_test.to(device)\n",
        "\n",
        "plot_predictions(train_data=X_train.cpu(), \n",
        "                 train_labels=y_train.cpu(),\n",
        "                 test_data=X_test.cpu(),\n",
        "                 test_labels=y_test.cpu())"
      ]
    },
    {
      "cell_type": "markdown",
      "metadata": {},
      "source": [
        "#### 6.2 Building a PyTorch linear model\n",
        "\n",
        "`class` `torch.nn.Linear(in_features, out_features, bias=True, device=None, dtype=None)`\n",
        "\n",
        "Applies an affine linear transformation to the incoming data: \n",
        "\n",
        "$$y =   x W^{\\top} + b$$"
      ]
    },
    {
      "cell_type": "code",
      "execution_count": 306,
      "metadata": {},
      "outputs": [
        {
          "data": {
            "text/plain": [
              "device(type='cpu')"
            ]
          },
          "execution_count": 306,
          "metadata": {},
          "output_type": "execute_result"
        }
      ],
      "source": [
        "# Create linear regression model class\n",
        "class LinearRegressionModelV2(nn.Module): # <- almost everything in PyTorch is a nn.Module (think of this as neural network lego blocks)\n",
        "  def __init__(self):\n",
        "    super().__init__()\n",
        "    \n",
        "    # nn.Linear(in_features, out_features) does three things:\n",
        "    #   1. Allocates a weight tensor of shape [out_features, in_features]\n",
        "    #   2. Allocates a bias tensor of shape [out_features]\n",
        "    #   3. Registers both as model parameters for optimization\n",
        "    self.linear_layer = nn.Linear(in_features=1,\n",
        "                                  out_features=1)\n",
        "    \n",
        "  def forward(self, x: torch.Tensor) -> torch.Tensor:\n",
        "      # Forward method to define the computation in the model\n",
        "    return self.linear_layer(x)\n",
        "  \n",
        "# Create an instance of the model (this is a subclass of nn.Module)\n",
        "torch.manual_seed(123)\n",
        "model_1 = LinearRegressionModelV2()\n",
        "\n",
        "# check the model current device\n",
        "next(model_1.parameters()).device"
      ]
    },
    {
      "cell_type": "code",
      "execution_count": 307,
      "metadata": {},
      "outputs": [
        {
          "data": {
            "text/plain": [
              "device(type='mps', index=0)"
            ]
          },
          "execution_count": 307,
          "metadata": {},
          "output_type": "execute_result"
        }
      ],
      "source": [
        "# Set the model to use the target device\n",
        "model_1.to(device)\n",
        "next(model_1.parameters()).device"
      ]
    },
    {
      "cell_type": "markdown",
      "metadata": {},
      "source": [
        "#### 6.3 Training"
      ]
    },
    {
      "cell_type": "code",
      "execution_count": 308,
      "metadata": {},
      "outputs": [],
      "source": [
        "# Create the loss function\n",
        "loss_fn = nn.L1Loss() # MAE loss is same as L1Loss\n",
        "\n",
        "# Create the optimizer\n",
        "optimizer = torch.optim.SGD(params=model_1.parameters(),\n",
        "                            lr=0.01)"
      ]
    },
    {
      "cell_type": "code",
      "execution_count": 309,
      "metadata": {},
      "outputs": [
        {
          "name": "stdout",
          "output_type": "stream",
          "text": [
            "Epoch: 0 | MAE Train Loss: 0.6985182762145996 | MAE Test Loss: 1.2339286804199219 \n",
            "Epoch: 50 | MAE Train Loss: 0.23122254014015198 | MAE Test Loss: 0.6315546035766602 \n",
            "Epoch: 100 | MAE Train Loss: 0.15579652786254883 | MAE Test Loss: 0.39936336874961853 \n",
            "Epoch: 150 | MAE Train Loss: 0.13354746997356415 | MAE Test Loss: 0.29631176590919495 \n",
            "Epoch: 200 | MAE Train Loss: 0.11650009453296661 | MAE Test Loss: 0.25084349513053894 \n",
            "Epoch: 250 | MAE Train Loss: 0.10031884163618088 | MAE Test Loss: 0.21558625996112823 \n",
            "Epoch: 300 | MAE Train Loss: 0.08414067327976227 | MAE Test Loss: 0.18103349208831787 \n",
            "Epoch: 350 | MAE Train Loss: 0.06796472519636154 | MAE Test Loss: 0.14577549695968628 \n",
            "Epoch: 400 | MAE Train Loss: 0.053036607801914215 | MAE Test Loss: 0.11217708885669708 \n",
            "Epoch: 450 | MAE Train Loss: 0.03954479470849037 | MAE Test Loss: 0.08060301840305328 \n",
            "Epoch: 500 | MAE Train Loss: 0.027627432718873024 | MAE Test Loss: 0.05802818015217781 \n",
            "Epoch: 550 | MAE Train Loss: 0.019965428858995438 | MAE Test Loss: 0.032646793872117996 \n",
            "Epoch: 600 | MAE Train Loss: 0.017801066860556602 | MAE Test Loss: 0.020523691549897194 \n",
            "Epoch: 650 | MAE Train Loss: 0.017004236578941345 | MAE Test Loss: 0.013075083494186401 \n",
            "Epoch: 700 | MAE Train Loss: 0.016664549708366394 | MAE Test Loss: 0.013103860430419445 \n",
            "Epoch: 750 | MAE Train Loss: 0.01657766103744507 | MAE Test Loss: 0.013149112462997437 \n",
            "Epoch: 800 | MAE Train Loss: 0.016578352078795433 | MAE Test Loss: 0.013170606456696987 \n",
            "Epoch: 850 | MAE Train Loss: 0.016579288989305496 | MAE Test Loss: 0.013301283121109009 \n",
            "Epoch: 900 | MAE Train Loss: 0.016578098759055138 | MAE Test Loss: 0.013162690214812756 \n",
            "Epoch: 950 | MAE Train Loss: 0.016597941517829895 | MAE Test Loss: 0.013024091720581055 \n"
          ]
        }
      ],
      "source": [
        "torch.manual_seed(123)\n",
        "\n",
        "# Set the number of epochs (how many times the model will pass over the training data)\n",
        "epochs = 1000\n",
        "\n",
        "# Create empty loss lists to track values\n",
        "train_loss_values = []\n",
        "test_loss_values = []\n",
        "epoch_count = []\n",
        "\n",
        "for epoch in range(epochs):\n",
        "\n",
        "  ### Training\n",
        "  # 0. Switch into \"train\" mode:\n",
        "  model_1.train()\n",
        "\n",
        "  # 1. Forward pass\n",
        "  y_pred = model_1(X_train)\n",
        "\n",
        "  # 2. Compute the loss\n",
        "  loss = loss_fn(y_pred, y_train)\n",
        "\n",
        "  # 3. Zero out any previously stored gradients\n",
        "  optimizer.zero_grad()\n",
        "\n",
        "  # 4. Backward pass\n",
        "  loss.backward()\n",
        "\n",
        "  # 5. Update model parameters using the optimizer’s rule.\n",
        "  optimizer.step()\n",
        "\n",
        "  ### Testing\n",
        "  # 0. Switch into evaluation model\n",
        "  model_0.eval()\n",
        "  with torch.inference_mode():\n",
        "    test_pred = model_1(X_test)\n",
        "    test_loss = loss_fn(test_pred, y_test)\n",
        "\n",
        "  ### Print the results\n",
        "  if epoch % 50 == 0:\n",
        "    epoch_count.append(epoch)\n",
        "    train_loss_values.append(loss.detach().cpu().numpy())\n",
        "    test_loss_values.append(test_loss.detach().cpu().numpy())\n",
        "    print(f\"Epoch: {epoch} | MAE Train Loss: {loss} | MAE Test Loss: {test_loss} \")\n"
      ]
    },
    {
      "cell_type": "code",
      "execution_count": 310,
      "metadata": {},
      "outputs": [
        {
          "data": {
            "text/plain": [
              "<matplotlib.legend.Legend at 0x166d0f0b0>"
            ]
          },
          "execution_count": 310,
          "metadata": {},
          "output_type": "execute_result"
        },
        {
          "data": {
            "image/png": "[encoded data removed]",
            "text/plain": [
              "<Figure size 800x600 with 1 Axes>"
            ]
          },
          "metadata": {},
          "output_type": "display_data"
        }
      ],
      "source": [
        "# Plot the loss curves\n",
        "plt.figure(figsize=(8, 6))\n",
        "plt.plot(epoch_count, train_loss_values, label=\"Train loss\")\n",
        "plt.plot(epoch_count, test_loss_values, label=\"Test loss\")\n",
        "plt.title(\"Training and test loss curves\")\n",
        "plt.ylabel(\"Loss\")\n",
        "plt.xlabel(\"Epochs\")\n",
        "plt.legend()"
      ]
    },
    {
      "cell_type": "markdown",
      "metadata": {},
      "source": [
        "#### 6.4 Make predictions"
      ]
    },
    {
      "cell_type": "code",
      "execution_count": 311,
      "metadata": {},
      "outputs": [
        {
          "data": {
            "image/png": "[encoded data removed]",
            "text/plain": [
              "<Figure size 800x600 with 1 Axes>"
            ]
          },
          "metadata": {},
          "output_type": "display_data"
        }
      ],
      "source": [
        "# Turn model into evaluation mode\n",
        "model_1.eval()\n",
        "\n",
        "# Make predictions on the test data\n",
        "with torch.inference_mode():\n",
        "    y_preds = model_1(X_test)\n",
        "\n",
        "# Put data on the CPU and plot it\n",
        "plot_predictions(train_data=X_train.cpu(), \n",
        "                 train_labels=y_train.cpu(),\n",
        "                 test_data=X_test.cpu(),\n",
        "                 test_labels=y_test.cpu(), \n",
        "                 predictions=y_preds.cpu())"
      ]
    },
    {
      "cell_type": "markdown",
      "metadata": {},
      "source": [
        "#### 6.5 Saving and loading a model"
      ]
    },
    {
      "cell_type": "code",
      "execution_count": 312,
      "metadata": {},
      "outputs": [
        {
          "name": "stdout",
          "output_type": "stream",
          "text": [
            "Saving model to: models/01_pytorch_workflow_model_1.pth\n"
          ]
        }
      ],
      "source": [
        "# Save model\n",
        "from pathlib import Path\n",
        "\n",
        "# 1. Create models directory \n",
        "MODEL_PATH = Path(\"models\")\n",
        "MODEL_PATH.mkdir(parents=True, exist_ok=True)\n",
        "\n",
        "# 2. Create model save path \n",
        "MODEL_NAME = \"01_pytorch_workflow_model_1.pth\"\n",
        "MODEL_SAVE_PATH = MODEL_PATH / MODEL_NAME\n",
        "\n",
        "# 3. Save the model state dict \n",
        "print(f\"Saving model to: {MODEL_SAVE_PATH}\")\n",
        "torch.save(obj=model_1.state_dict(), # only saving the state_dict() only saves the models learned parameters\n",
        "           f=MODEL_SAVE_PATH) "
      ]
    },
    {
      "cell_type": "code",
      "execution_count": 313,
      "metadata": {},
      "outputs": [
        {
          "data": {
            "text/plain": [
              "tensor(0, device='mps:0')"
            ]
          },
          "execution_count": 313,
          "metadata": {},
          "output_type": "execute_result"
        }
      ],
      "source": [
        "# Load and evaluate model\n",
        "\n",
        "# Instantiate a fresh instance of LinearRegressionModelV2\n",
        "loaded_model_1 = LinearRegressionModelV2()\n",
        "\n",
        "# Load model state dict \n",
        "loaded_model_1.load_state_dict(torch.load(MODEL_SAVE_PATH))\n",
        "\n",
        "# Put model to target device (if your data is on GPU, model will have to be on GPU to make predictions)\n",
        "loaded_model_1.to(device)\n",
        "\n",
        "# Evaluate loaded model\n",
        "loaded_model_1.eval()\n",
        "with torch.inference_mode():\n",
        "    loaded_model_1_preds = loaded_model_1(X_test)\n",
        "torch.sum(y_preds != loaded_model_1_preds)"
      ]
    }
  ],
  "metadata": {
    "accelerator": "GPU",
    "colab": {
      "gpuType": "T4",
      "provenance": []
    },
    "kernelspec": {
      "display_name": "base",
      "language": "python",
      "name": "python3"
    },
    "language_info": {
      "codemirror_mode": {
        "name": "ipython",
        "version": 3
      },
      "file_extension": ".py",
      "mimetype": "text/x-python",
      "name": "python",
      "nbconvert_exporter": "python",
      "pygments_lexer": "ipython3",
      "version": "3.12.4"
    }
  },
  "nbformat": 4,
  "nbformat_minor": 0
}
